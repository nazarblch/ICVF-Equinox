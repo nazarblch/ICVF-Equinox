{
 "cells": [
  {
   "cell_type": "code",
   "execution_count": 1,
   "metadata": {},
   "outputs": [],
   "source": [
    "import sys\n",
    "sys.path.append(\"../\")\n",
    "\n",
    "import jax\n",
    "import os\n",
    "os.environ[\"D4RL_SUPPRESS_IMPORT_ERROR\"] = \"1\"\n",
    "\n",
    "import warnings\n",
    "warnings.filterwarnings(\"ignore\")\n"
   ]
  },
  {
   "cell_type": "code",
   "execution_count": 2,
   "metadata": {},
   "outputs": [
    {
     "name": "stderr",
     "output_type": "stream",
     "text": [
      "pybullet build time: May 20 2022 19:45:31\n",
      "/home/m_bobrin/anaconda3/envs/icvf/lib/python3.9/site-packages/flax/linen/linear.py:30: DeprecationWarning: jax.ShapedArray is deprecated. Use jax.core.ShapedArray\n",
      "  from jax import ShapedArray\n"
     ]
    },
    {
     "name": "stdout",
     "output_type": "stream",
     "text": [
      "Target Goal:  (32.34774396295872, 25.034585130608814)\n"
     ]
    },
    {
     "name": "stderr",
     "output_type": "stream",
     "text": [
      "load datafile: 100%|██████████| 8/8 [00:02<00:00,  3.24it/s]\n"
     ]
    }
   ],
   "source": [
    "from icvf_envs.antmaze import d4rl_utils, d4rl_ant, d4rl_pm\n",
    "from src.gc_dataset import GCSDataset\n",
    "\n",
    "gcdataset_config = GCSDataset.get_default_config()\n",
    "\n",
    "env = d4rl_utils.make_env(\"antmaze-large-diverse-v2\")\n",
    "dataset = d4rl_utils.get_dataset(env)\n",
    "gc_dataset = GCSDataset(dataset, **gcdataset_config.to_dict())\n",
    "example_batch = gc_dataset.sample(1)"
   ]
  },
  {
   "cell_type": "code",
   "execution_count": 3,
   "metadata": {},
   "outputs": [
    {
     "data": {
      "text/plain": [
       "2"
      ]
     },
     "execution_count": 3,
     "metadata": {},
     "output_type": "execute_result"
    }
   ],
   "source": [
    "import jax.numpy as jnp\n",
    "import numpy as np\n",
    "\n",
    "terminal_indxes = np.argwhere(dataset[\"dones_float\"] > 0.5).squeeze()\n",
    "random_idx = np.random.choice(terminal_indxes, size=2, replace=False)\n",
    "len(random_idx)\n",
    "#dataset.get_subset(random_idx)"
   ]
  },
  {
   "cell_type": "code",
   "execution_count": 6,
   "metadata": {},
   "outputs": [
    {
     "data": {
      "text/plain": [
       "(10, 29)"
      ]
     },
     "execution_count": 6,
     "metadata": {},
     "output_type": "execute_result"
    }
   ],
   "source": [
    "gc_dataset.sample_trajectories(2)[1]['observations']"
   ]
  },
  {
   "cell_type": "code",
   "execution_count": 3,
   "metadata": {},
   "outputs": [
    {
     "data": {
      "text/plain": [
       "dict_keys(['actions', 'dones_float', 'masks', 'next_observations', 'observations', 'rewards', 'desired_rewards', 'desired_masks', 'goals', 'desired_goals'])"
      ]
     },
     "execution_count": 3,
     "metadata": {},
     "output_type": "execute_result"
    }
   ],
   "source": [
    "example_batch.keys()"
   ]
  },
  {
   "cell_type": "markdown",
   "metadata": {},
   "source": [
    "#### Each token - (observations, next_observations, dones_float)\n",
    "For ant_maze obs space is vector of size 29, action - 8"
   ]
  },
  {
   "cell_type": "markdown",
   "metadata": {},
   "source": [
    "### VQVAE"
   ]
  },
  {
   "cell_type": "code",
   "execution_count": 4,
   "metadata": {},
   "outputs": [],
   "source": [
    "import optax\n",
    "\n",
    "import flax.linen as nn\n",
    "import einops\n",
    "import jax.numpy as jnp\n"
   ]
  },
  {
   "cell_type": "code",
   "execution_count": 5,
   "metadata": {},
   "outputs": [],
   "source": [
    "from dataclasses import dataclass, field\n",
    "\n",
    "@dataclass\n",
    "class VqvaeConfig:\n",
    "    run_opt: str = field(default='train')\n",
    "    \n",
    "    adam_beta1: float = .9\n",
    "    adam_beta2: float = .9\n",
    "    lr: float = 3e-5\n",
    "    ema_rate: float = 0.\n",
    "    n_batch: int = 32   \n",
    "    warmup_iters: float = 100.\n",
    "    wd: float = 0.\n",
    "    grad_clip: float = 200.     \n",
    "    dtype: str = \"float32\"\n",
    "    checkpoint: bool = False\n",
    "    \n",
    "    iters_per_ckpt: int = 25000\n",
    "    iters_per_images: int = 10000\n",
    "    iters_per_print: int = 1000\n",
    "    iters_per_save: int = 10000"
   ]
  },
  {
   "cell_type": "code",
   "execution_count": null,
   "metadata": {},
   "outputs": [],
   "source": [
    "from typing import Any\n",
    "\n",
    "\n",
    "class VQVAE(nn.Module):\n",
    "    hyperparams: VqvaeConfig\n",
    "    \n",
    "    \n",
    "    @nn.compact\n",
    "    def __call__(self, *args, **kwargs) -> Any:\n",
    "        pos_embedding = self.param('pos_embedding', nn.initializers.zeros, [1, num_patches + 1, self.dim])\n",
    "        pass\n",
    "    \n",
    "    def encode(self):\n",
    "        pass\n",
    "    \n",
    "    def decode(self):\n",
    "        pass"
   ]
  },
  {
   "cell_type": "code",
   "execution_count": null,
   "metadata": {},
   "outputs": [],
   "source": []
  }
 ],
 "metadata": {
  "kernelspec": {
   "display_name": "icvf",
   "language": "python",
   "name": "python3"
  },
  "language_info": {
   "codemirror_mode": {
    "name": "ipython",
    "version": 3
   },
   "file_extension": ".py",
   "mimetype": "text/x-python",
   "name": "python",
   "nbconvert_exporter": "python",
   "pygments_lexer": "ipython3",
   "version": "3.9.16"
  },
  "orig_nbformat": 4
 },
 "nbformat": 4,
 "nbformat_minor": 2
}
